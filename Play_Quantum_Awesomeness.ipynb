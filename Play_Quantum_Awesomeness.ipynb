{
 "cells": [
  {
   "cell_type": "markdown",
   "metadata": {},
   "source": [
    "#### For more information about this game, see [this article](https://medium.com/@decodoku/understanding-quantum-computers-through-a-simple-puzzle-game-a290dde89fb2), or check it out on [GitHub](https://github.com/decodoku/A_Game_to_Benchmark_Quantum_Computers/blob/master/README.md).\n",
    "\n",
    "The game can be played by running the cell below."
   ]
  },
  {
   "cell_type": "code",
   "execution_count": null,
   "metadata": {
    "collapsed": false,
    "scrolled": false
   },
   "outputs": [],
   "source": [
    "from devices import *\n",
    "from QuantumAwesomeness import *\n",
    "%matplotlib inline\n",
    "while True:\n",
    "    PlayGame()"
   ]
  },
  {
   "cell_type": "markdown",
   "metadata": {},
   "source": [
    "Alternatively, a single puzzle can be shown with the cell below."
   ]
  },
  {
   "cell_type": "code",
   "execution_count": null,
   "metadata": {},
   "outputs": [],
   "source": [
    "from QuantumAwesomeness import *\n",
    "%matplotlib inline\n",
    "\n",
    "device = 'ibmqx5'\n",
    "\n",
    "# decide what puzzle you want to look at\n",
    "s = 18 # sample number\n",
    "t = 1 # round number (indexed from 0)\n",
    "move = 'C' # move type\n",
    "sim = False # whether simulated\n",
    "\n",
    "\n",
    "num, area, entangleType, pairs, pos, example, sdk, runs = getLayout(device)\n",
    "\n",
    "maxScore = runs[sim]['maxScore']\n",
    "shots = runs[sim]['shots'][0]\n",
    "\n",
    "oneProbSamples = resultsLoad ( 'oneProbs', move, shots, sim, device )\n",
    "sameProbSamples = resultsLoad ( 'sameProbs', move, shots, sim, device )\n",
    "gateSamples = resultsLoad ( 'gates', move, shots, sim, device )\n",
    "\n",
    "rawOneProb = oneProbSamples[s][t]\n",
    "sameProb = sameProbSamples[s][t]\n",
    "\n",
    "cleaner = getCleaningProfile ( device, move, shots, sim, num, maxScore )\n",
    "oneProb = CleanData ( cleaner[t], rawOneProb, sameProb, pairs)\n",
    "\n",
    "\n",
    "printPuzzle( device, rawOneProb)\n",
    "printPuzzle( device, oneProb)\n",
    "\n",
    "print('Solutions:')\n",
    "print(set(gateSamples[s][t].keys()))"
   ]
  }
 ],
 "metadata": {
  "kernelspec": {
   "display_name": "Python 3",
   "language": "python",
   "name": "python3"
  },
  "language_info": {
   "codemirror_mode": {
    "name": "ipython",
    "version": 3
   },
   "file_extension": ".py",
   "mimetype": "text/x-python",
   "name": "python",
   "nbconvert_exporter": "python",
   "pygments_lexer": "ipython3",
   "version": "3.10.6"
  }
 },
 "nbformat": 4,
 "nbformat_minor": 2
}
