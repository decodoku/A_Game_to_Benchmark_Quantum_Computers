{
 "cells": [
  {
   "cell_type": "markdown",
   "metadata": {},
   "source": [
    "## Run circuits on IBM Quantum devices in 2024\n",
    "\n",
    "For games run using manual Qiskit, the circuits are saved in QASM. Format. This notebook can be used to run those files on modern IBM Quantum hardware, using the latest Qiskit version (as of July 2024)."
   ]
  },
  {
   "cell_type": "code",
   "execution_count": 1,
   "metadata": {},
   "outputs": [],
   "source": [
    "from qiskit import QuantumCircuit, transpile\n",
    "\n",
    "import sys\n",
    "sys.path.append(\"../\")\n",
    "from devices import supportedDevices, getLayout\n",
    "from QuantumAwesomeness import *"
   ]
  },
  {
   "cell_type": "markdown",
   "metadata": {},
   "source": [
    "First, set up the provider. You made need to add login credentials."
   ]
  },
  {
   "cell_type": "code",
   "execution_count": 2,
   "metadata": {},
   "outputs": [],
   "source": [
    "from qiskit_ibm_provider import IBMProvider\n",
    "provider = IBMProvider()"
   ]
  },
  {
   "cell_type": "markdown",
   "metadata": {},
   "source": [
    "Then specify the device."
   ]
  },
  {
   "cell_type": "code",
   "execution_count": 3,
   "metadata": {},
   "outputs": [],
   "source": [
    "device = 'ibm_fez'\n",
    "backend = provider.get_backend(device)"
   ]
  },
  {
   "cell_type": "markdown",
   "metadata": {},
   "source": [
    "Next we retreive, transpile and run the circuits. The job IDs are output in a file."
   ]
  },
  {
   "cell_type": "code",
   "execution_count": null,
   "metadata": {},
   "outputs": [],
   "source": [
    "file_ids = open('../results/'+device+'/jobids_move=C_shots=8192_sim=False.txt', 'a')\n",
    "for s in range(20):\n",
    "    with open('../results/'+device+'/qasm/qasm_C_8192_'+str(s)+'.txt', 'r') as file:\n",
    "        qasms = file.readlines()[1::]\n",
    "\n",
    "    qcs = []\n",
    "    for qasm in qasms:\n",
    "        qc = QuantumCircuit()\n",
    "        qc = qc.from_qasm_str(qasm.replace('\\\\n','\\n'))\n",
    "        tqc = transpile(qc, backend)\n",
    "        qcs.append(tqc)\n",
    "    #print(qc.count_ops(), tqc.count_ops())\n",
    "\n",
    "    job = backend.run(qcs, shots=8192, rep_delay=backend.configuration().rep_delay_range[1])\n",
    "\n",
    "    file_ids.write(job.job_id()+'\\n')\n",
    "    print(job.job_id())\n",
    "file_ids.close()"
   ]
  },
  {
   "cell_type": "markdown",
   "metadata": {},
   "source": [
    "Once the jobs have finished running, the results can be retreived."
   ]
  },
  {
   "cell_type": "code",
   "execution_count": 4,
   "metadata": {},
   "outputs": [],
   "source": [
    "with open('../results/'+device+'/jobids_move=C_shots=8192_sim=False.txt', 'r') as file:\n",
    "    jobids = file.readlines()\n",
    "\n",
    "results = []\n",
    "for jobid in jobids:\n",
    "    if jobid:\n",
    "        jobid = jobid.replace('\\n','')\n",
    "        job = provider.retrieve_job(jobid)\n",
    "        result = []\n",
    "        for result_raw in job.result().get_counts():\n",
    "            result.append({})\n",
    "            for string, nums in result_raw.items():\n",
    "                result[-1][string[::-1]] = nums\n",
    "        results.append(result)\n",
    "\n",
    "file = open('../results/'+device+'/results_move=C_shots=8192_sim=False.txt', 'a')\n",
    "for result in results:\n",
    "    file.write(str(result))\n",
    "file.close()"
   ]
  },
  {
   "cell_type": "markdown",
   "metadata": {},
   "source": [
    "They can then be processed to get and save the required information."
   ]
  },
  {
   "cell_type": "code",
   "execution_count": 5,
   "metadata": {},
   "outputs": [],
   "source": [
    "num, area, entangleType, pairs, pos, example, sdk, runs = getLayout(device)\n",
    "\n",
    "file_one = open('../results/'+device+'/oneProbs_move=C_shots=8192_sim=False.txt', 'a')\n",
    "file_same = open('../results/'+device+'/sameProbs_move=C_shots=8192_sim=False.txt', 'a')\n",
    "for r, result in enumerate(results):\n",
    "    oneProbs = []\n",
    "    sameProbs = []\n",
    "    for resultsRaw in result:\n",
    "        oneProb, sameProb, _ = processResults ( dict(resultsRaw), num, pairs, False, 8192 )\n",
    "        oneProbs.append(oneProb)\n",
    "        sameProbs.append(sameProb)\n",
    "    file_one.write((r!=0)*'\\n'+str(oneProbs))\n",
    "    file_same.write((r!=0)*'\\n'+str(sameProbs))\n",
    "file_one.close()\n",
    "file_same.close()"
   ]
  },
  {
   "cell_type": "code",
   "execution_count": null,
   "metadata": {},
   "outputs": [],
   "source": []
  }
 ],
 "metadata": {
  "kernelspec": {
   "display_name": "Python 3",
   "language": "python",
   "name": "python3"
  },
  "language_info": {
   "codemirror_mode": {
    "name": "ipython",
    "version": 3
   },
   "file_extension": ".py",
   "mimetype": "text/x-python",
   "name": "python",
   "nbconvert_exporter": "python",
   "pygments_lexer": "ipython3",
   "version": "3.10.6"
  }
 },
 "nbformat": 4,
 "nbformat_minor": 2
}
