{
 "cells": [
  {
   "cell_type": "markdown",
   "metadata": {},
   "source": [
    "## Set up and execute a calls to `GetData()` function"
   ]
  },
  {
   "cell_type": "markdown",
   "metadata": {},
   "source": [
    "**The following cell is the only one you need to modify**\n",
    "\n",
    "* Set the `device` variable to the device you want to take data for.\n",
    "\n",
    "* Set `sims_to_use` to `[False]` to run on a real device only, `[True]` to simulate only, or `[True,False]` to do both.\n",
    "\n",
    "The jobs created given this information depends on the how `runs` has been setup in *devices.py*."
   ]
  },
  {
   "cell_type": "code",
   "execution_count": 1,
   "metadata": {
    "collapsed": true
   },
   "outputs": [],
   "source": [
    "device = 'ibm_fez'       # replace with the device you require\n",
    "sims_to_use = [False]   # replace with the list of booleans you require"
   ]
  },
  {
   "cell_type": "markdown",
   "metadata": {},
   "source": [
    "Now we get on with running things, by first importing what we need."
   ]
  },
  {
   "cell_type": "code",
   "execution_count": 2,
   "metadata": {
    "collapsed": true
   },
   "outputs": [],
   "source": [
    "import sys\n",
    "sys.path.append(\"../\")\n",
    "from devices import supportedDevices, getLayout\n",
    "from QuantumAwesomeness import *"
   ]
  },
  {
   "cell_type": "markdown",
   "metadata": {},
   "source": [
    "Then we get the data for the requested instances. In the case of manual Qiskit, this will just write the circuits to file."
   ]
  },
  {
   "cell_type": "code",
   "execution_count": 5,
   "metadata": {
    "scrolled": false
   },
   "outputs": [
    {
     "name": "stdout",
     "output_type": "stream",
     "text": [
      "move=C, shots=8192, sample=0\n",
      "move=C, shots=8192, sample=1\n",
      "move=C, shots=8192, sample=2\n",
      "move=C, shots=8192, sample=3\n",
      "move=C, shots=8192, sample=4\n",
      "move=C, shots=8192, sample=5\n",
      "move=C, shots=8192, sample=6\n",
      "move=C, shots=8192, sample=7\n",
      "move=C, shots=8192, sample=8\n",
      "move=C, shots=8192, sample=9\n",
      "move=C, shots=8192, sample=10\n",
      "move=C, shots=8192, sample=11\n",
      "move=C, shots=8192, sample=12\n",
      "move=C, shots=8192, sample=13\n",
      "move=C, shots=8192, sample=14\n",
      "move=C, shots=8192, sample=15\n",
      "move=C, shots=8192, sample=16\n",
      "move=C, shots=8192, sample=17\n",
      "move=C, shots=8192, sample=18\n",
      "move=C, shots=8192, sample=19\n"
     ]
    }
   ],
   "source": [
    "num, area, entangleType, pairs, pos, example, sdk, runs = getLayout(device)\n",
    "\n",
    "for sim in sims_to_use:\n",
    "    for move in runs[sim]['move']:\n",
    "        for shots in runs[sim]['shots']:\n",
    "            GetData( device, move, shots, sim, runs[sim]['samples'], runs[sim]['maxScore'])"
   ]
  }
 ],
 "metadata": {
  "kernelspec": {
   "display_name": "Python 3",
   "language": "python",
   "name": "python3"
  },
  "language_info": {
   "codemirror_mode": {
    "name": "ipython",
    "version": 3
   },
   "file_extension": ".py",
   "mimetype": "text/x-python",
   "name": "python",
   "nbconvert_exporter": "python",
   "pygments_lexer": "ipython3",
   "version": "3.5.undefined"
  }
 },
 "nbformat": 4,
 "nbformat_minor": 2
}
